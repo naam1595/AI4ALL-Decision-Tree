{
    "metadata": {
        "kernelspec": {
            "name": "python3",
            "display_name": "Python 3 (ipykernel)",
            "language": "python"
        }
    },
    "nbformat": 4,
    "nbformat_minor": 2,
    "cells": [
        {
            "cell_type": "code",
            "execution_count": 1,
            "metadata": {},
            "outputs": [],
            "source": [
                "import pandas as pd\n",
                "import numpy as np\n",
                "from matplotlib import pyplot as plt\n",
                "import numpy as np\n",
                "%matplotlib inline "
            ]
        },
        {
            "cell_type": "code",
            "execution_count": 2,
            "metadata": {},
            "outputs": [],
            "source": [
                "df = pd.read_csv('originalfile.csv',engine='python')"
            ]
        },
        {
            "cell_type": "code",
            "execution_count": 3,
            "metadata": {},
            "outputs": [
                {
                    "data": {
                        "text/html": "\u003cdiv\u003e\n\u003cstyle scoped\u003e\n    .dataframe tbody tr th:only-of-type {\n        vertical-align: middle;\n    }\n\n    .dataframe tbody tr th {\n        vertical-align: top;\n    }\n\n    .dataframe thead th {\n        text-align: right;\n    }\n\u003c/style\u003e\n\u003ctable border=\"1\" class=\"dataframe\"\u003e\n  \u003cthead\u003e\n    \u003ctr style=\"text-align: right;\"\u003e\n      \u003cth\u003e\u003c/th\u003e\n      \u003cth\u003eAge\u003c/th\u003e\n      \u003cth\u003eSex\u003c/th\u003e\n      \u003cth\u003eCholesterol\u003c/th\u003e\n      \u003cth\u003eNa_to_K\u003c/th\u003e\n      \u003cth\u003eDrug\u003c/th\u003e\n    \u003c/tr\u003e\n  \u003c/thead\u003e\n  \u003ctbody\u003e\n    \u003ctr\u003e\n      \u003cth\u003e0\u003c/th\u003e\n      \u003ctd\u003e23\u003c/td\u003e\n      \u003ctd\u003e0\u003c/td\u003e\n      \u003ctd\u003eHIGH\u003c/td\u003e\n      \u003ctd\u003e25.355\u003c/td\u003e\n      \u003ctd\u003e5000.0\u003c/td\u003e\n    \u003c/tr\u003e\n    \u003ctr\u003e\n      \u003cth\u003e1\u003c/th\u003e\n      \u003ctd\u003e47\u003c/td\u003e\n      \u003ctd\u003e1\u003c/td\u003e\n      \u003ctd\u003eHIGH\u003c/td\u003e\n      \u003ctd\u003e13.093\u003c/td\u003e\n      \u003ctd\u003e3000.0\u003c/td\u003e\n    \u003c/tr\u003e\n    \u003ctr\u003e\n      \u003cth\u003e2\u003c/th\u003e\n      \u003ctd\u003e47\u003c/td\u003e\n      \u003ctd\u003e1\u003c/td\u003e\n      \u003ctd\u003eHIGH\u003c/td\u003e\n      \u003ctd\u003e10.114\u003c/td\u003e\n      \u003ctd\u003e3000.0\u003c/td\u003e\n    \u003c/tr\u003e\n    \u003ctr\u003e\n      \u003cth\u003e3\u003c/th\u003e\n      \u003ctd\u003e28\u003c/td\u003e\n      \u003ctd\u003e0\u003c/td\u003e\n      \u003ctd\u003eHIGH\u003c/td\u003e\n      \u003ctd\u003e7.798\u003c/td\u003e\n      \u003ctd\u003e4000.0\u003c/td\u003e\n    \u003c/tr\u003e\n    \u003ctr\u003e\n      \u003cth\u003e4\u003c/th\u003e\n      \u003ctd\u003e61\u003c/td\u003e\n      \u003ctd\u003e0\u003c/td\u003e\n      \u003ctd\u003eHIGH\u003c/td\u003e\n      \u003ctd\u003e18.043\u003c/td\u003e\n      \u003ctd\u003e5000.0\u003c/td\u003e\n    \u003c/tr\u003e\n  \u003c/tbody\u003e\n\u003c/table\u003e\n\u003c/div\u003e",
                        "text/plain": "   Age  Sex Cholesterol  Na_to_K    Drug\n0   23    0        HIGH   25.355  5000.0\n1   47    1        HIGH   13.093  3000.0\n2   47    1        HIGH   10.114  3000.0\n3   28    0        HIGH    7.798  4000.0\n4   61    0        HIGH   18.043  5000.0"
                    },
                    "execution_count": 3,
                    "metadata": {},
                    "output_type": "execute_result"
                }
            ],
            "source": [
                "df.head()"
            ]
        },
        {
            "cell_type": "code",
            "execution_count": 4,
            "metadata": {},
            "outputs": [
                {
                    "data": {
                        "text/plain": "Index(['Age', 'Sex', 'Cholesterol', 'Na_to_K', 'Drug'], dtype='object')"
                    },
                    "execution_count": 4,
                    "metadata": {},
                    "output_type": "execute_result"
                }
            ],
            "source": [
                "df.columns"
            ]
        },
        {
            "cell_type": "code",
            "execution_count": 5,
            "metadata": {},
            "outputs": [
                {
                    "data": {
                        "text/html": "\u003cdiv\u003e\n\u003cstyle scoped\u003e\n    .dataframe tbody tr th:only-of-type {\n        vertical-align: middle;\n    }\n\n    .dataframe tbody tr th {\n        vertical-align: top;\n    }\n\n    .dataframe thead th {\n        text-align: right;\n    }\n\u003c/style\u003e\n\u003ctable border=\"1\" class=\"dataframe\"\u003e\n  \u003cthead\u003e\n    \u003ctr style=\"text-align: right;\"\u003e\n      \u003cth\u003e\u003c/th\u003e\n      \u003cth\u003eAge\u003c/th\u003e\n      \u003cth\u003eSex\u003c/th\u003e\n      \u003cth\u003eCholesterol\u003c/th\u003e\n      \u003cth\u003eNa_to_K\u003c/th\u003e\n      \u003cth\u003eDrug\u003c/th\u003e\n    \u003c/tr\u003e\n  \u003c/thead\u003e\n  \u003ctbody\u003e\n    \u003ctr\u003e\n      \u003cth\u003e195\u003c/th\u003e\n      \u003ctd\u003e56\u003c/td\u003e\n      \u003ctd\u003e0\u003c/td\u003e\n      \u003ctd\u003eHIGH\u003c/td\u003e\n      \u003ctd\u003e11.567\u003c/td\u003e\n      \u003ctd\u003e3000.0\u003c/td\u003e\n    \u003c/tr\u003e\n    \u003ctr\u003e\n      \u003cth\u003e196\u003c/th\u003e\n      \u003ctd\u003e16\u003c/td\u003e\n      \u003ctd\u003e1\u003c/td\u003e\n      \u003ctd\u003eHIGH\u003c/td\u003e\n      \u003ctd\u003e12.006\u003c/td\u003e\n      \u003ctd\u003e3000.0\u003c/td\u003e\n    \u003c/tr\u003e\n    \u003ctr\u003e\n      \u003cth\u003e197\u003c/th\u003e\n      \u003ctd\u003e52\u003c/td\u003e\n      \u003ctd\u003e1\u003c/td\u003e\n      \u003ctd\u003eHIGH\u003c/td\u003e\n      \u003ctd\u003e9.894\u003c/td\u003e\n      \u003ctd\u003e4000.0\u003c/td\u003e\n    \u003c/tr\u003e\n    \u003ctr\u003e\n      \u003cth\u003e198\u003c/th\u003e\n      \u003ctd\u003e23\u003c/td\u003e\n      \u003ctd\u003e1\u003c/td\u003e\n      \u003ctd\u003eNORMAL\u003c/td\u003e\n      \u003ctd\u003e14.020\u003c/td\u003e\n      \u003ctd\u003e4000.0\u003c/td\u003e\n    \u003c/tr\u003e\n    \u003ctr\u003e\n      \u003cth\u003e199\u003c/th\u003e\n      \u003ctd\u003e40\u003c/td\u003e\n      \u003ctd\u003e0\u003c/td\u003e\n      \u003ctd\u003eNORMAL\u003c/td\u003e\n      \u003ctd\u003e11.349\u003c/td\u003e\n      \u003ctd\u003e4000.0\u003c/td\u003e\n    \u003c/tr\u003e\n  \u003c/tbody\u003e\n\u003c/table\u003e\n\u003c/div\u003e",
                        "text/plain": "     Age  Sex Cholesterol  Na_to_K    Drug\n195   56    0        HIGH   11.567  3000.0\n196   16    1        HIGH   12.006  3000.0\n197   52    1        HIGH    9.894  4000.0\n198   23    1      NORMAL   14.020  4000.0\n199   40    0      NORMAL   11.349  4000.0"
                    },
                    "execution_count": 5,
                    "metadata": {},
                    "output_type": "execute_result"
                }
            ],
            "source": [
                "df.tail() # Check the bottom 5 rows"
            ]
        },
        {
            "attachments": {},
            "cell_type": "markdown",
            "metadata": {},
            "source": [
                "# Missing Data\n",
                "Some columns have missing values. For our analysis, we only want to keep rows with complete data.\n",
                "Note that \"NaN\" stands for \"Not a Number\" and means the data is missing."
            ]
        },
        {
            "cell_type": "code",
            "execution_count": 6,
            "metadata": {},
            "outputs": [
                {
                    "data": {
                        "text/plain": "Drug    True\ndtype: bool"
                    },
                    "execution_count": 6,
                    "metadata": {},
                    "output_type": "execute_result"
                }
            ],
            "source": [
                "# This will give us a list of the columns that contain NaN \n",
                "# NaN stands for \"Not a Number\", or that there is no value in there (it's missing)\n",
                "df.isna().any()[lambda x: x]"
            ]
        },
        {
            "attachments": {},
            "cell_type": "markdown",
            "metadata": {},
            "source": [
                "Cleaning Data"
            ]
        },
        {
            "cell_type": "code",
            "execution_count": 7,
            "metadata": {},
            "outputs": [],
            "source": [
                "# Clean rows\n",
                "df = df.dropna()\n",
                "df = df.reset_index(drop=True)\n",
                "df.to_csv('cleanedfile.csv')"
            ]
        }
    ]
}
